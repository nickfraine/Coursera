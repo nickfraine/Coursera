{
    "nbformat_minor": 1, 
    "cells": [
        {
            "source": "# Coursera Capstone - Final Project\n## Introduction/Business Problem", 
            "cell_type": "markdown", 
            "metadata": {
                "collapsed": true
            }
        }, 
        {
            "source": "Coffee Shops are increasingly common accross the world and so the purpose of this analysis is to try and identify Postcodes in Toronto that do not contain any coffee shops, then classify these postcodes into categories based on the other types of venues within the Postcode. \n\nStakeholders that would be interested in the report are Coffee Shop chains looking to identify new locations to branch out into, or smaller Coffee Shop owners who are looking for places to open a Shop. Essentially, the analysis and report will provide insight into where no such Coffee Shop exists and also information about the environment that sits around the location, with details of whether the other venues in the area would be complimentary and/or suitable for a Shop to open. \n\nIn order to answer this question, I will:\nA) Identify Postcodes which do not currently have any Coffee Shops - this will be my population\nB) Using this population, I will then extract the venue information for all other venues in the Postcode\nC) Categorise these into \"look - alike\" Postcodes, using clustering techniques\nD) Describe the different types of Postcodes where a new Coffee Shop may wish to consider opening\n\nThe report will allow location planners to be able to identify the correct Postcode to open their new shop, based on the desired environments.", 
            "cell_type": "markdown", 
            "metadata": {}
        }, 
        {
            "source": "## Data", 
            "cell_type": "markdown", 
            "metadata": {}
        }, 
        {
            "source": "The data I will use will come from three sources:\n\nA) The Toronto Postcodes Wikipedia page. This will provide the details of all of the Postcodes in the Toronto area.\nB) The geospatial co-ordinates for the Toronto Postcodes. These are provided in a csv which has been extracted from the Geocoder Python Package.\nC) Foursquare data, which will be used for 2 purposes: 1) To identify which Postcodes do not have any Coffee Shops and 2) To identify the other types of Venue which exist in each of the Postcodes in the no Coffee Shop population.\n\nTo use these datasets, I will:\nA) Scrape the wikipedia page using the pandas read_html functionality\nB) Join the postcode data from the above, to the geo location data that is present in the csv file\nC) Use the resultant data set to query Foursquare and pull out the details for all venues in each of the Postcodes\nD) Identify how many Coffee Shops are in each of the Postcodes, and then limit the population to those which contain none\nE) Use the remaining Venue data to produce clusters to describe the other types of businesses in the Postcode", 
            "cell_type": "markdown", 
            "metadata": {}
        }, 
        {
            "source": "", 
            "cell_type": "code", 
            "metadata": {}, 
            "outputs": [], 
            "execution_count": null
        }
    ], 
    "metadata": {
        "kernelspec": {
            "display_name": "Python 3.5", 
            "name": "python3", 
            "language": "python"
        }, 
        "language_info": {
            "mimetype": "text/x-python", 
            "nbconvert_exporter": "python", 
            "version": "3.5.5", 
            "name": "python", 
            "file_extension": ".py", 
            "pygments_lexer": "ipython3", 
            "codemirror_mode": {
                "version": 3, 
                "name": "ipython"
            }
        }
    }, 
    "nbformat": 4
}